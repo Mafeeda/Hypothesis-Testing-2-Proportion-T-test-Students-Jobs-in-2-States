{
 "cells": [
  {
   "cell_type": "markdown",
   "id": "b69203a3",
   "metadata": {},
   "source": [
    "## Hypothesis Testing 2-Proportion T-test (Students Jobs in 2 States)"
   ]
  },
  {
   "cell_type": "code",
   "execution_count": 1,
   "id": "8e937f07",
   "metadata": {},
   "outputs": [],
   "source": [
    "import pandas as pd\n",
    "import numpy as np\n",
    "import statsmodels.api as sm"
   ]
  },
  {
   "cell_type": "code",
   "execution_count": 9,
   "id": "d417f8c1",
   "metadata": {},
   "outputs": [],
   "source": [
    "n1=247; p1=0.37 # state1\n",
    "n2=308; p2=0.39 # state2"
   ]
  },
  {
   "cell_type": "markdown",
   "id": "3c236f88",
   "metadata": {},
   "source": [
    "### 2 Proportion ttest (comparing percentages) Assume Null Hypothesis as Ho is p1-p2 = 0 i.e. p1 ≠ p2 Thus Alternate Hypthesis as Ha is p1 = p2Explanation of bernoulli Binomial RV: np.random.binomial(n=1,p,size) Suppose you perform an experiment with two possible outcomes: either success or failure. Success happens with probability p, while failure happens with probability 1-p. A random variable that takes value 1 in case of success and 0 in case of failure is called a Bernoulli random variable. Here, n = 1, Because you need to check whether it is success or failure one time (Placement or not-placement) (1 trial) p = probability of success size = number of times you will check this (Ex: for 247 students each one time = 247) Explanation of Binomial RV: np.random.binomial(n=1,p,size) (Incase of not a Bernoulli RV, n = number of trials) For egs: check how many times you will get six if you roll a dice 10 times n=10, P=1/6 and size = repetition of experiment 'dice rolled 10 times', say repeated 18 times, then size=18"
   ]
  },
  {
   "cell_type": "code",
   "execution_count": 10,
   "id": "37b82f43",
   "metadata": {},
   "outputs": [],
   "source": [
    "# Generate Bernoulli random numbers arrays for both the states"
   ]
  },
  {
   "cell_type": "code",
   "execution_count": 11,
   "id": "624a4823",
   "metadata": {},
   "outputs": [
    {
     "data": {
      "text/plain": [
       "array([1, 1, 0, 0, 1, 0, 0, 0, 0, 0, 1, 1, 0, 0, 0, 0, 0, 1, 0, 0, 1, 1,\n",
       "       1, 1, 1, 1, 0, 0, 1, 0, 1, 1, 0, 1, 0, 0, 1, 0, 1, 1, 1, 0, 0, 0,\n",
       "       0, 0, 0, 0, 0, 0, 0, 1, 0, 0, 0, 0, 1, 1, 0, 0, 0, 0, 1, 1, 1, 0,\n",
       "       0, 0, 1, 0, 0, 1, 0, 1, 0, 0, 0, 0, 0, 0, 0, 0, 0, 1, 1, 0, 0, 0,\n",
       "       1, 0, 0, 0, 0, 0, 0, 0, 1, 0, 1, 0, 0, 0, 0, 0, 0, 0, 0, 1, 1, 0,\n",
       "       0, 1, 1, 1, 0, 0, 0, 1, 0, 1, 0, 0, 1, 0, 1, 1, 0, 0, 1, 1, 0, 1,\n",
       "       0, 1, 0, 0, 1, 1, 0, 0, 0, 0, 1, 0, 0, 0, 0, 0, 0, 1, 1, 1, 1, 1,\n",
       "       1, 0, 1, 1, 0, 1, 0, 0, 0, 0, 1, 1, 0, 1, 0, 0, 1, 0, 1, 1, 1, 0,\n",
       "       1, 0, 0, 0, 1, 1, 0, 1, 1, 0, 1, 1, 0, 0, 0, 1, 1, 1, 0, 0, 0, 0,\n",
       "       0, 0, 1, 1, 1, 0, 0, 0, 0, 0, 0, 0, 0, 0, 0, 1, 1, 0, 0, 1, 1, 0,\n",
       "       0, 1, 0, 0, 0, 1, 1, 0, 0, 0, 0, 0, 0, 0, 0, 0, 0, 0, 0, 0, 0, 0,\n",
       "       0, 1, 0, 0, 0])"
      ]
     },
     "execution_count": 11,
     "metadata": {},
     "output_type": "execute_result"
    }
   ],
   "source": [
    "state1=np.random.binomial(n=1,p=p1,size=n1)\n",
    "state1"
   ]
  },
  {
   "cell_type": "code",
   "execution_count": 12,
   "id": "fbe82638",
   "metadata": {},
   "outputs": [
    {
     "data": {
      "text/plain": [
       "array([1, 1, 1, 0, 0, 0, 0, 0, 1, 0, 1, 0, 0, 1, 0, 0, 0, 0, 1, 0, 0, 0,\n",
       "       0, 1, 1, 0, 0, 0, 0, 1, 0, 0, 0, 0, 0, 0, 0, 0, 1, 1, 1, 0, 0, 1,\n",
       "       0, 0, 0, 0, 0, 1, 0, 0, 1, 1, 1, 0, 1, 0, 0, 0, 1, 0, 0, 1, 0, 1,\n",
       "       0, 0, 1, 0, 0, 0, 0, 1, 1, 0, 1, 0, 1, 0, 0, 0, 1, 1, 1, 1, 1, 0,\n",
       "       0, 1, 0, 1, 1, 0, 1, 1, 1, 1, 0, 0, 0, 0, 0, 1, 0, 1, 1, 0, 1, 0,\n",
       "       1, 0, 1, 0, 1, 0, 1, 1, 0, 0, 0, 0, 0, 0, 1, 0, 0, 1, 1, 1, 1, 1,\n",
       "       0, 1, 1, 0, 0, 0, 1, 1, 0, 1, 0, 1, 1, 0, 1, 1, 1, 0, 1, 1, 0, 0,\n",
       "       0, 0, 0, 0, 0, 0, 0, 1, 1, 0, 0, 0, 1, 0, 0, 0, 1, 1, 1, 0, 1, 0,\n",
       "       0, 1, 1, 0, 1, 0, 1, 0, 0, 1, 0, 0, 1, 0, 1, 1, 1, 1, 1, 0, 1, 0,\n",
       "       0, 0, 0, 1, 0, 1, 0, 0, 0, 1, 0, 1, 0, 0, 1, 1, 1, 0, 1, 1, 0, 1,\n",
       "       0, 1, 1, 0, 1, 0, 0, 1, 0, 0, 1, 1, 0, 0, 0, 0, 0, 0, 0, 0, 0, 0,\n",
       "       0, 0, 0, 0, 1, 0, 1, 0, 1, 0, 0, 1, 1, 1, 0, 0, 0, 1, 0, 1, 0, 1,\n",
       "       1, 0, 0, 0, 1, 0, 0, 0, 0, 0, 1, 0, 0, 0, 1, 1, 0, 0, 0, 0, 0, 0,\n",
       "       1, 0, 0, 0, 0, 0, 1, 0, 1, 1, 0, 0, 1, 0, 0, 1, 0, 1, 1, 0, 0, 0])"
      ]
     },
     "execution_count": 12,
     "metadata": {},
     "output_type": "execute_result"
    }
   ],
   "source": [
    "state2=np.random.binomial(n=1,p=p2,size=n2)\n",
    "state2"
   ]
  },
  {
   "cell_type": "code",
   "execution_count": 13,
   "id": "1930327a",
   "metadata": {},
   "outputs": [],
   "source": [
    "# 2 proportion ttest:   sm.stats.ttest_ind(array1,array2)"
   ]
  },
  {
   "cell_type": "code",
   "execution_count": 14,
   "id": "d7403b57",
   "metadata": {},
   "outputs": [
    {
     "data": {
      "text/plain": [
       "(-1.0380479903734476, 0.29970137876226666, 553.0)"
      ]
     },
     "execution_count": 14,
     "metadata": {},
     "output_type": "execute_result"
    }
   ],
   "source": [
    "p_value=sm.stats.ttest_ind(state1,state2)\n",
    "p_value"
   ]
  },
  {
   "cell_type": "code",
   "execution_count": 15,
   "id": "1b5c6ec4",
   "metadata": {},
   "outputs": [],
   "source": [
    "# here o/p is (t-stats value, probability value, degrees of freedom)"
   ]
  },
  {
   "cell_type": "code",
   "execution_count": 16,
   "id": "4cb08414",
   "metadata": {},
   "outputs": [
    {
     "data": {
      "text/plain": [
       "0.29970137876226666"
      ]
     },
     "execution_count": 16,
     "metadata": {},
     "output_type": "execute_result"
    }
   ],
   "source": [
    "p_value[1]"
   ]
  },
  {
   "cell_type": "code",
   "execution_count": 17,
   "id": "fba52e95",
   "metadata": {},
   "outputs": [],
   "source": [
    "# comparing p_value with α = 0.05"
   ]
  },
  {
   "cell_type": "markdown",
   "id": "3f82fd0c",
   "metadata": {},
   "source": [
    "#### As (p_value=0.7255) > (α = 0.05); Accept Null Hypothesis i.e. p1 ≠ p2 There is significant differnce in population proportions of state1 and state2 who report that they have been placed immediately after education."
   ]
  },
  {
   "cell_type": "code",
   "execution_count": 18,
   "id": "d6c91b08",
   "metadata": {},
   "outputs": [],
   "source": [
    "# Additionaly, if we want to find means"
   ]
  },
  {
   "cell_type": "code",
   "execution_count": 19,
   "id": "0caae1dc",
   "metadata": {},
   "outputs": [
    {
     "data": {
      "text/plain": [
       "0.3562753036437247"
      ]
     },
     "execution_count": 19,
     "metadata": {},
     "output_type": "execute_result"
    }
   ],
   "source": [
    "state1.mean()"
   ]
  },
  {
   "cell_type": "code",
   "execution_count": 20,
   "id": "78624771",
   "metadata": {},
   "outputs": [
    {
     "data": {
      "text/plain": [
       "0.39935064935064934"
      ]
     },
     "execution_count": 20,
     "metadata": {},
     "output_type": "execute_result"
    }
   ],
   "source": [
    "state2.mean()"
   ]
  },
  {
   "cell_type": "code",
   "execution_count": null,
   "id": "004b8d7b",
   "metadata": {},
   "outputs": [],
   "source": []
  }
 ],
 "metadata": {
  "kernelspec": {
   "display_name": "Python 3",
   "language": "python",
   "name": "python3"
  },
  "language_info": {
   "codemirror_mode": {
    "name": "ipython",
    "version": 3
   },
   "file_extension": ".py",
   "mimetype": "text/x-python",
   "name": "python",
   "nbconvert_exporter": "python",
   "pygments_lexer": "ipython3",
   "version": "3.8.8"
  }
 },
 "nbformat": 4,
 "nbformat_minor": 5
}
